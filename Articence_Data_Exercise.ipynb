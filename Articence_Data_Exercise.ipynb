{
  "nbformat": 4,
  "nbformat_minor": 0,
  "metadata": {
    "colab": {
      "name": "Articence Data Exercise",
      "provenance": [],
      "collapsed_sections": []
    },
    "kernelspec": {
      "name": "python3",
      "display_name": "Python 3"
    },
    "language_info": {
      "name": "python"
    }
  },
  "cells": [
    {
      "cell_type": "markdown",
      "metadata": {
        "id": "xDGPC86t-DQY"
      },
      "source": [
        "#<center>  Articence Data Exercise <center>\n",
        " <center>By Catherine Hsu<center>"
      ]
    },
    {
      "cell_type": "code",
      "metadata": {
        "colab": {
          "base_uri": "https://localhost:8080/"
        },
        "id": "YQlTriI3uQ_S",
        "outputId": "9f31bcc2-8309-4eb5-e1a9-a1c208a12767"
      },
      "source": [
        "from google.colab import drive\n",
        "drive.mount('/content/drive')"
      ],
      "execution_count": 71,
      "outputs": [
        {
          "output_type": "stream",
          "text": [
            "Drive already mounted at /content/drive; to attempt to forcibly remount, call drive.mount(\"/content/drive\", force_remount=True).\n"
          ],
          "name": "stdout"
        }
      ]
    },
    {
      "cell_type": "code",
      "metadata": {
        "id": "4V9t8mujvAe3"
      },
      "source": [
        "import numpy as np\n",
        "import pandas as pd\n",
        "import os\n",
        "import matplotlib.pyplot as plt\n",
        "import datetime"
      ],
      "execution_count": 72,
      "outputs": []
    },
    {
      "cell_type": "code",
      "metadata": {
        "id": "3cPmz2KmuoN8"
      },
      "source": [
        "product_info_df = pd.read_csv('/content/drive/My Drive/DataScienceEvaluation.csv')\n",
        "product_info_df = product_info_df.dropna()"
      ],
      "execution_count": 73,
      "outputs": []
    },
    {
      "cell_type": "markdown",
      "metadata": {
        "id": "8G59lK2kVDe9"
      },
      "source": [
        "**Products and Profitability**\n",
        "\n",
        "Every company has profitable and unpopular products. To evaluate the success of products in the marketplace, I solely looked at their profitability. I did three forms of analysis. \n",
        "\n",
        "First, I did a general analysis of the products by grouping them according to item type and taking the average total profit. "
      ]
    },
    {
      "cell_type": "code",
      "metadata": {
        "colab": {
          "base_uri": "https://localhost:8080/",
          "height": 432
        },
        "id": "LWPSWknBYi6b",
        "outputId": "5cb85668-7f39-491b-cca4-400a723f7296"
      },
      "source": [
        "general_df = product_info_df.groupby(['Item Type']).mean()\n",
        "general_df = general_df[['Total Profit']]\n",
        "general_df"
      ],
      "execution_count": 74,
      "outputs": [
        {
          "output_type": "execute_result",
          "data": {
            "text/html": [
              "<div>\n",
              "<style scoped>\n",
              "    .dataframe tbody tr th:only-of-type {\n",
              "        vertical-align: middle;\n",
              "    }\n",
              "\n",
              "    .dataframe tbody tr th {\n",
              "        vertical-align: top;\n",
              "    }\n",
              "\n",
              "    .dataframe thead th {\n",
              "        text-align: right;\n",
              "    }\n",
              "</style>\n",
              "<table border=\"1\" class=\"dataframe\">\n",
              "  <thead>\n",
              "    <tr style=\"text-align: right;\">\n",
              "      <th></th>\n",
              "      <th>Total Profit</th>\n",
              "    </tr>\n",
              "    <tr>\n",
              "      <th>Item Type</th>\n",
              "      <th></th>\n",
              "    </tr>\n",
              "  </thead>\n",
              "  <tbody>\n",
              "    <tr>\n",
              "      <th>Baby Food</th>\n",
              "      <td>471801.294958</td>\n",
              "    </tr>\n",
              "    <tr>\n",
              "      <th>Beverages</th>\n",
              "      <td>78157.155945</td>\n",
              "    </tr>\n",
              "    <tr>\n",
              "      <th>Cereal</th>\n",
              "      <td>443282.151263</td>\n",
              "    </tr>\n",
              "    <tr>\n",
              "      <th>Clothes</th>\n",
              "      <td>371222.569516</td>\n",
              "    </tr>\n",
              "    <tr>\n",
              "      <th>Cosmetics</th>\n",
              "      <td>859814.927486</td>\n",
              "    </tr>\n",
              "    <tr>\n",
              "      <th>Fruits</th>\n",
              "      <td>11987.605264</td>\n",
              "    </tr>\n",
              "    <tr>\n",
              "      <th>Household</th>\n",
              "      <td>830261.766776</td>\n",
              "    </tr>\n",
              "    <tr>\n",
              "      <th>Meat</th>\n",
              "      <td>283279.282899</td>\n",
              "    </tr>\n",
              "    <tr>\n",
              "      <th>Office Supplies</th>\n",
              "      <td>631973.859501</td>\n",
              "    </tr>\n",
              "    <tr>\n",
              "      <th>Personal Care</th>\n",
              "      <td>125224.372744</td>\n",
              "    </tr>\n",
              "    <tr>\n",
              "      <th>Snacks</th>\n",
              "      <td>275369.240540</td>\n",
              "    </tr>\n",
              "    <tr>\n",
              "      <th>Vegetables</th>\n",
              "      <td>315432.562507</td>\n",
              "    </tr>\n",
              "  </tbody>\n",
              "</table>\n",
              "</div>"
            ],
            "text/plain": [
              "                  Total Profit\n",
              "Item Type                     \n",
              "Baby Food        471801.294958\n",
              "Beverages         78157.155945\n",
              "Cereal           443282.151263\n",
              "Clothes          371222.569516\n",
              "Cosmetics        859814.927486\n",
              "Fruits            11987.605264\n",
              "Household        830261.766776\n",
              "Meat             283279.282899\n",
              "Office Supplies  631973.859501\n",
              "Personal Care    125224.372744\n",
              "Snacks           275369.240540\n",
              "Vegetables       315432.562507"
            ]
          },
          "metadata": {
            "tags": []
          },
          "execution_count": 74
        }
      ]
    },
    {
      "cell_type": "code",
      "metadata": {
        "colab": {
          "base_uri": "https://localhost:8080/",
          "height": 491
        },
        "id": "Si6mrq0xdcWD",
        "outputId": "38d56ba3-5fd8-4244-aaa5-e019342b8e22"
      },
      "source": [
        "fig = plt.figure()\n",
        "fig.set_size_inches(14.5, 5.5)\n",
        "ax = fig.add_axes([0,0,1,1])\n",
        "items = general_df.index\n",
        "profitability = general_df['Total Profit']\n",
        "ax.bar(items, profitability)\n",
        "plt.title('Profitability per Item')\n",
        "plt.xlabel('Items')\n",
        "plt.ylabel('Profit ($)')"
      ],
      "execution_count": 75,
      "outputs": [
        {
          "output_type": "execute_result",
          "data": {
            "text/plain": [
              "Text(0, 0.5, 'Profit ($)')"
            ]
          },
          "metadata": {
            "tags": []
          },
          "execution_count": 75
        },
        {
          "output_type": "display_data",
          "data": {
            "image/png": "[encoded data removed]",
            "text/plain": [
              "<Figure size 1044x396 with 1 Axes>"
            ]
          },
          "metadata": {
            "tags": [],
            "needs_background": "light"
          }
        }
      ]
    },
    {
      "cell_type": "markdown",
      "metadata": {
        "id": "5N77Qw_yZZV_"
      },
      "source": [
        "From the bar chart, the three most popular items are cosmetics, household, and office supplies. The three least popular items are personal care, beverages, and fruits.\n",
        "\n",
        "To evaluate each of the six items with more granularity, I evaluated their profitability in every region. I  grouped them by region of origin and took their average total profit."
      ]
    },
    {
      "cell_type": "code",
      "metadata": {
        "colab": {
          "base_uri": "https://localhost:8080/",
          "height": 527
        },
        "id": "T5pyygmecB3u",
        "outputId": "f17d952a-b7cd-4a7b-d213-e07a38b75279"
      },
      "source": [
        "cosmetics = product_info_df[product_info_df['Item Type']=='Cosmetics']\n",
        "cosmetics = cosmetics.groupby(['Region']).mean()[['Total Profit']].sort_values('Total Profit', ascending = False)\n",
        "\n",
        "fig = plt.figure()\n",
        "fig.set_size_inches(16, 6)\n",
        "ax = fig.add_axes([0,0,1,1])\n",
        "countries = cosmetics.index\n",
        "profitability = cosmetics['Total Profit']\n",
        "ax.bar(countries, profitability)\n",
        "plt.title('Cosmetics Profitability per Region')\n",
        "plt.xlabel('Countries')\n",
        "plt.ylabel('Profit ($)')"
      ],
      "execution_count": 76,
      "outputs": [
        {
          "output_type": "execute_result",
          "data": {
            "text/plain": [
              "Text(0, 0.5, 'Profit ($)')"
            ]
          },
          "metadata": {
            "tags": []
          },
          "execution_count": 76
        },
        {
          "output_type": "display_data",
          "data": {
            "image/png": "[encoded data removed]",
            "text/plain": [
              "<Figure size 1152x432 with 1 Axes>"
            ]
          },
          "metadata": {
            "tags": [],
            "needs_background": "light"
          }
        }
      ]
    },
    {
      "cell_type": "code",
      "metadata": {
        "colab": {
          "base_uri": "https://localhost:8080/",
          "height": 527
        },
        "id": "F9Nf88LPlLGq",
        "outputId": "0405dbda-1975-45a7-d893-48b809ff8b53"
      },
      "source": [
        "household = product_info_df[product_info_df['Item Type']=='Household']\n",
        "household = household.groupby(['Region']).mean()[['Total Profit']].sort_values('Total Profit', ascending = False)\n",
        "\n",
        "fig = plt.figure()\n",
        "fig.set_size_inches(16, 6)\n",
        "ax = fig.add_axes([0,0,1,1])\n",
        "countries = household.index\n",
        "profitability = household['Total Profit']\n",
        "ax.bar(countries, profitability)\n",
        "plt.title('Household Profitability per Region')\n",
        "plt.xlabel('Countries')\n",
        "plt.ylabel('Profit ($)')"
      ],
      "execution_count": 77,
      "outputs": [
        {
          "output_type": "execute_result",
          "data": {
            "text/plain": [
              "Text(0, 0.5, 'Profit ($)')"
            ]
          },
          "metadata": {
            "tags": []
          },
          "execution_count": 77
        },
        {
          "output_type": "display_data",
          "data": {
            "image/png": "[encoded data removed]",
            "text/plain": [
              "<Figure size 1152x432 with 1 Axes>"
            ]
          },
          "metadata": {
            "tags": [],
            "needs_background": "light"
          }
        }
      ]
    },
    {
      "cell_type": "code",
      "metadata": {
        "colab": {
          "base_uri": "https://localhost:8080/",
          "height": 527
        },
        "id": "tdhCxMjWg2KY",
        "outputId": "3a2b3e8b-4bb7-4f9f-c172-f8c27566873b"
      },
      "source": [
        "osupplies = product_info_df[product_info_df['Item Type']=='Office Supplies']\n",
        "osupplies = osupplies.groupby(['Region']).mean()[['Total Profit']].sort_values('Total Profit', ascending = False)\n",
        "\n",
        "fig = plt.figure()\n",
        "fig.set_size_inches(16, 6)\n",
        "ax = fig.add_axes([0,0,1,1])\n",
        "countries = osupplies.index\n",
        "profitability = osupplies['Total Profit']\n",
        "ax.bar(countries, profitability)\n",
        "plt.title('Office Supplies Profitability per Region')\n",
        "plt.xlabel('Countries')\n",
        "plt.ylabel('Profit ($)')"
      ],
      "execution_count": 78,
      "outputs": [
        {
          "output_type": "execute_result",
          "data": {
            "text/plain": [
              "Text(0, 0.5, 'Profit ($)')"
            ]
          },
          "metadata": {
            "tags": []
          },
          "execution_count": 78
        },
        {
          "output_type": "display_data",
          "data": {
            "image/png": "[encoded data removed]",
            "text/plain": [
              "<Figure size 1152x432 with 1 Axes>"
            ]
          },
          "metadata": {
            "tags": [],
            "needs_background": "light"
          }
        }
      ]
    },
    {
      "cell_type": "code",
      "metadata": {
        "colab": {
          "base_uri": "https://localhost:8080/",
          "height": 526
        },
        "id": "ywFIDlfGhDZh",
        "outputId": "355532e8-657f-4540-8098-448ec62f9df9"
      },
      "source": [
        "pcare = product_info_df[product_info_df['Item Type']=='Personal Care']\n",
        "pcare = pcare.groupby(['Region']).mean()[['Total Profit']].sort_values('Total Profit', ascending = False)\n",
        "\n",
        "fig = plt.figure()\n",
        "fig.set_size_inches(18, 6)\n",
        "ax = fig.add_axes([0,0,1,1])\n",
        "countries = pcare.index\n",
        "profitability = pcare['Total Profit']\n",
        "ax.bar(countries, profitability)\n",
        "plt.title('Personal Care Profitability per Region')\n",
        "plt.xlabel('Countries')\n",
        "plt.ylabel('Profit ($)')"
      ],
      "execution_count": 79,
      "outputs": [
        {
          "output_type": "execute_result",
          "data": {
            "text/plain": [
              "Text(0, 0.5, 'Profit ($)')"
            ]
          },
          "metadata": {
            "tags": []
          },
          "execution_count": 79
        },
        {
          "output_type": "display_data",
          "data": {
            "image/png": "[encoded data removed]",
            "text/plain": [
              "<Figure size 1296x432 with 1 Axes>"
            ]
          },
          "metadata": {
            "tags": [],
            "needs_background": "light"
          }
        }
      ]
    },
    {
      "cell_type": "code",
      "metadata": {
        "colab": {
          "base_uri": "https://localhost:8080/",
          "height": 527
        },
        "id": "8x7AWs7-hWx6",
        "outputId": "8fe0abeb-a6b1-4d81-d3ac-970a5f37d8d4"
      },
      "source": [
        "beverages = product_info_df[product_info_df['Item Type']=='Beverages']\n",
        "beverages = beverages.groupby(['Region']).mean()[['Total Profit']].sort_values('Total Profit', ascending = False)\n",
        "\n",
        "fig = plt.figure()\n",
        "fig.set_size_inches(18, 6)\n",
        "ax = fig.add_axes([0,0,1,1])\n",
        "countries = beverages.index\n",
        "profitability = beverages['Total Profit']\n",
        "ax.bar(countries, profitability)\n",
        "plt.title('Beverages Profitability per Region')\n",
        "plt.xlabel('Countries')\n",
        "plt.ylabel('Profit ($)')"
      ],
      "execution_count": 80,
      "outputs": [
        {
          "output_type": "execute_result",
          "data": {
            "text/plain": [
              "Text(0, 0.5, 'Profit ($)')"
            ]
          },
          "metadata": {
            "tags": []
          },
          "execution_count": 80
        },
        {
          "output_type": "display_data",
          "data": {
            "image/png": "[encoded data removed]",
            "text/plain": [
              "<Figure size 1296x432 with 1 Axes>"
            ]
          },
          "metadata": {
            "tags": [],
            "needs_background": "light"
          }
        }
      ]
    },
    {
      "cell_type": "code",
      "metadata": {
        "colab": {
          "base_uri": "https://localhost:8080/",
          "height": 527
        },
        "id": "nQi4-laWhYZL",
        "outputId": "8e1028f4-9e69-4f59-c032-7bb216ca7ce7"
      },
      "source": [
        "fruits = product_info_df[product_info_df['Item Type']=='Fruits']\n",
        "fruits = fruits.groupby(['Region']).mean()[['Total Profit']].sort_values('Total Profit', ascending = False)\n",
        "\n",
        "fig = plt.figure()\n",
        "fig.set_size_inches(16, 6)\n",
        "ax = fig.add_axes([0,0,1,1])\n",
        "countries = fruits.index\n",
        "profitability = fruits['Total Profit']\n",
        "ax.bar(countries, profitability)\n",
        "plt.title('Fruits Profitability per Region')\n",
        "plt.xlabel('Countries')\n",
        "plt.ylabel('Profit ($)')"
      ],
      "execution_count": 81,
      "outputs": [
        {
          "output_type": "execute_result",
          "data": {
            "text/plain": [
              "Text(0, 0.5, 'Profit ($)')"
            ]
          },
          "metadata": {
            "tags": []
          },
          "execution_count": 81
        },
        {
          "output_type": "display_data",
          "data": {
            "image/png": "[encoded data removed]",
            "text/plain": [
              "<Figure size 1152x432 with 1 Axes>"
            ]
          },
          "metadata": {
            "tags": [],
            "needs_background": "light"
          }
        }
      ]
    },
    {
      "cell_type": "markdown",
      "metadata": {
        "id": "c5kMCcY5j53b"
      },
      "source": [
        "Moving forward, we should consider dropping products in regions with low profitablity. At a large scale, items in personal care, beverages, and fruits are the least profitable. But, when we observe at a more granular scale, we see that Asia and Sub-Saharan Africa are consistently the bottom three profitable regions in personal care, beverages, and fruits. Due to the low profits in those regions, we should consider dropping products in personal care, beverages, and fruits in Asia and Sub-Saharan Africa.\n",
        "\n",
        "Conversely, items in cosmetics, household, and office supplies are very profitable. Customers in Australia & Oceania, Central America & the Caribbean, and North America are huge consumers of these products. We know that there is a great market for cosmetics, household, and office supplies and need to redirect our marketing strategy to regions which have the potential to be very profitable for these products. On average, these countries are the top five profitable countries in cosmetics, household, and office supplies: Middle East & North Africa and Sub-Saharan Africa. "
      ]
    },
    {
      "cell_type": "markdown",
      "metadata": {
        "id": "oxWqhEUOofcW"
      },
      "source": [
        "**Easiest Products to Sell**\n",
        "\n",
        "Then, I evaluated the easiest selling products. To do so, I created a column called Turnaround (Days) that is the difference between the ship date and order date. "
      ]
    },
    {
      "cell_type": "code",
      "metadata": {
        "id": "ojx0Xk_3KfAZ"
      },
      "source": [
        "days_elapsed = []\n",
        "for ship_date, order_date in zip(product_info_df['Ship Date'], product_info_df['Order Date']):\n",
        "  ship_obj =datetime.datetime.strptime(ship_date,\"%m/%d/%y\")\n",
        "  ship_reformatted = datetime.datetime(ship_obj.year, ship_obj.month, ship_obj.day)\n",
        "\n",
        "  order_obj=datetime.datetime.strptime(order_date,\"%m/%d/%y\")\n",
        "  order_reformatted = datetime.datetime(order_obj.year, order_obj.month, order_obj.day)\n",
        "\n",
        "  days_elapsed.append((ship_reformatted - order_reformatted).days)"
      ],
      "execution_count": 82,
      "outputs": []
    },
    {
      "cell_type": "code",
      "metadata": {
        "colab": {
          "base_uri": "https://localhost:8080/",
          "height": 195
        },
        "id": "WVHLgfDZLgf4",
        "outputId": "8f6ae7c5-4dff-4d8c-d991-48274dce72e9"
      },
      "source": [
        "product_info_df['Turnaround (Days)'] = days_elapsed\n",
        "days_region_type = product_info_df[['Region', 'Item Type', 'Turnaround (Days)']]\n",
        "days_region_type.head()"
      ],
      "execution_count": 83,
      "outputs": [
        {
          "output_type": "execute_result",
          "data": {
            "text/html": [
              "<div>\n",
              "<style scoped>\n",
              "    .dataframe tbody tr th:only-of-type {\n",
              "        vertical-align: middle;\n",
              "    }\n",
              "\n",
              "    .dataframe tbody tr th {\n",
              "        vertical-align: top;\n",
              "    }\n",
              "\n",
              "    .dataframe thead th {\n",
              "        text-align: right;\n",
              "    }\n",
              "</style>\n",
              "<table border=\"1\" class=\"dataframe\">\n",
              "  <thead>\n",
              "    <tr style=\"text-align: right;\">\n",
              "      <th></th>\n",
              "      <th>Region</th>\n",
              "      <th>Item Type</th>\n",
              "      <th>Turnaround (Days)</th>\n",
              "    </tr>\n",
              "  </thead>\n",
              "  <tbody>\n",
              "    <tr>\n",
              "      <th>0</th>\n",
              "      <td>Sub-Saharan Africa</td>\n",
              "      <td>Snacks</td>\n",
              "      <td>3</td>\n",
              "    </tr>\n",
              "    <tr>\n",
              "      <th>1</th>\n",
              "      <td>Sub-Saharan Africa</td>\n",
              "      <td>Snacks</td>\n",
              "      <td>25</td>\n",
              "    </tr>\n",
              "    <tr>\n",
              "      <th>2</th>\n",
              "      <td>Central America and the Caribbean</td>\n",
              "      <td>Clothes</td>\n",
              "      <td>20</td>\n",
              "    </tr>\n",
              "    <tr>\n",
              "      <th>3</th>\n",
              "      <td>Europe</td>\n",
              "      <td>Office Supplies</td>\n",
              "      <td>18</td>\n",
              "    </tr>\n",
              "    <tr>\n",
              "      <th>4</th>\n",
              "      <td>Europe</td>\n",
              "      <td>Cosmetics</td>\n",
              "      <td>48</td>\n",
              "    </tr>\n",
              "  </tbody>\n",
              "</table>\n",
              "</div>"
            ],
            "text/plain": [
              "                              Region        Item Type  Turnaround (Days)\n",
              "0                 Sub-Saharan Africa           Snacks                  3\n",
              "1                 Sub-Saharan Africa           Snacks                 25\n",
              "2  Central America and the Caribbean          Clothes                 20\n",
              "3                             Europe  Office Supplies                 18\n",
              "4                             Europe        Cosmetics                 48"
            ]
          },
          "metadata": {
            "tags": []
          },
          "execution_count": 83
        }
      ]
    },
    {
      "cell_type": "markdown",
      "metadata": {
        "id": "ZDbnEo8psFtM"
      },
      "source": [
        "Thereafter, I calculated the average turnaround time for each item type and region. Overall, I gathered that cosmetics, snacks, and meat had the quickest turnaround time, while fruits, personal care, and office supplies had the slowest turnaround time. "
      ]
    },
    {
      "cell_type": "code",
      "metadata": {
        "colab": {
          "base_uri": "https://localhost:8080/",
          "height": 432
        },
        "id": "oZWoYbpBsqOC",
        "outputId": "66e50467-c7e4-4c3c-dc56-cd82940c7c66"
      },
      "source": [
        "days_region_type.groupby(['Item Type']).mean().sort_values('Turnaround (Days)', ascending = True)"
      ],
      "execution_count": 84,
      "outputs": [
        {
          "output_type": "execute_result",
          "data": {
            "text/html": [
              "<div>\n",
              "<style scoped>\n",
              "    .dataframe tbody tr th:only-of-type {\n",
              "        vertical-align: middle;\n",
              "    }\n",
              "\n",
              "    .dataframe tbody tr th {\n",
              "        vertical-align: top;\n",
              "    }\n",
              "\n",
              "    .dataframe thead th {\n",
              "        text-align: right;\n",
              "    }\n",
              "</style>\n",
              "<table border=\"1\" class=\"dataframe\">\n",
              "  <thead>\n",
              "    <tr style=\"text-align: right;\">\n",
              "      <th></th>\n",
              "      <th>Turnaround (Days)</th>\n",
              "    </tr>\n",
              "    <tr>\n",
              "      <th>Item Type</th>\n",
              "      <th></th>\n",
              "    </tr>\n",
              "  </thead>\n",
              "  <tbody>\n",
              "    <tr>\n",
              "      <th>Cosmetics</th>\n",
              "      <td>24.667757</td>\n",
              "    </tr>\n",
              "    <tr>\n",
              "      <th>Snacks</th>\n",
              "      <td>24.746577</td>\n",
              "    </tr>\n",
              "    <tr>\n",
              "      <th>Meat</th>\n",
              "      <td>24.799778</td>\n",
              "    </tr>\n",
              "    <tr>\n",
              "      <th>Beverages</th>\n",
              "      <td>24.803422</td>\n",
              "    </tr>\n",
              "    <tr>\n",
              "      <th>Cereal</th>\n",
              "      <td>24.915576</td>\n",
              "    </tr>\n",
              "    <tr>\n",
              "      <th>Baby Food</th>\n",
              "      <td>25.030127</td>\n",
              "    </tr>\n",
              "    <tr>\n",
              "      <th>Vegetables</th>\n",
              "      <td>25.120235</td>\n",
              "    </tr>\n",
              "    <tr>\n",
              "      <th>Household</th>\n",
              "      <td>25.200513</td>\n",
              "    </tr>\n",
              "    <tr>\n",
              "      <th>Clothes</th>\n",
              "      <td>25.200591</td>\n",
              "    </tr>\n",
              "    <tr>\n",
              "      <th>Fruits</th>\n",
              "      <td>25.233573</td>\n",
              "    </tr>\n",
              "    <tr>\n",
              "      <th>Personal Care</th>\n",
              "      <td>25.284648</td>\n",
              "    </tr>\n",
              "    <tr>\n",
              "      <th>Office Supplies</th>\n",
              "      <td>25.402890</td>\n",
              "    </tr>\n",
              "  </tbody>\n",
              "</table>\n",
              "</div>"
            ],
            "text/plain": [
              "                 Turnaround (Days)\n",
              "Item Type                         \n",
              "Cosmetics                24.667757\n",
              "Snacks                   24.746577\n",
              "Meat                     24.799778\n",
              "Beverages                24.803422\n",
              "Cereal                   24.915576\n",
              "Baby Food                25.030127\n",
              "Vegetables               25.120235\n",
              "Household                25.200513\n",
              "Clothes                  25.200591\n",
              "Fruits                   25.233573\n",
              "Personal Care            25.284648\n",
              "Office Supplies          25.402890"
            ]
          },
          "metadata": {
            "tags": []
          },
          "execution_count": 84
        }
      ]
    },
    {
      "cell_type": "code",
      "metadata": {
        "colab": {
          "base_uri": "https://localhost:8080/",
          "height": 284
        },
        "id": "ErSvMWl89dVc",
        "outputId": "28857468-1546-4407-8ecb-ba5e46caf0f1"
      },
      "source": [
        "days_region_type.groupby(['Region']).mean().sort_values('Turnaround (Days)', ascending = True)"
      ],
      "execution_count": 88,
      "outputs": [
        {
          "output_type": "execute_result",
          "data": {
            "text/html": [
              "<div>\n",
              "<style scoped>\n",
              "    .dataframe tbody tr th:only-of-type {\n",
              "        vertical-align: middle;\n",
              "    }\n",
              "\n",
              "    .dataframe tbody tr th {\n",
              "        vertical-align: top;\n",
              "    }\n",
              "\n",
              "    .dataframe thead th {\n",
              "        text-align: right;\n",
              "    }\n",
              "</style>\n",
              "<table border=\"1\" class=\"dataframe\">\n",
              "  <thead>\n",
              "    <tr style=\"text-align: right;\">\n",
              "      <th></th>\n",
              "      <th>Turnaround (Days)</th>\n",
              "    </tr>\n",
              "    <tr>\n",
              "      <th>Region</th>\n",
              "      <th></th>\n",
              "    </tr>\n",
              "  </thead>\n",
              "  <tbody>\n",
              "    <tr>\n",
              "      <th>Australia and Oceania</th>\n",
              "      <td>24.796349</td>\n",
              "    </tr>\n",
              "    <tr>\n",
              "      <th>Sub-Saharan Africa</th>\n",
              "      <td>24.867922</td>\n",
              "    </tr>\n",
              "    <tr>\n",
              "      <th>Central America and the Caribbean</th>\n",
              "      <td>24.984983</td>\n",
              "    </tr>\n",
              "    <tr>\n",
              "      <th>Middle East and North Africa</th>\n",
              "      <td>25.076732</td>\n",
              "    </tr>\n",
              "    <tr>\n",
              "      <th>Europe</th>\n",
              "      <td>25.106199</td>\n",
              "    </tr>\n",
              "    <tr>\n",
              "      <th>Asia</th>\n",
              "      <td>25.282504</td>\n",
              "    </tr>\n",
              "    <tr>\n",
              "      <th>North America</th>\n",
              "      <td>25.343441</td>\n",
              "    </tr>\n",
              "  </tbody>\n",
              "</table>\n",
              "</div>"
            ],
            "text/plain": [
              "                                   Turnaround (Days)\n",
              "Region                                              \n",
              "Australia and Oceania                      24.796349\n",
              "Sub-Saharan Africa                         24.867922\n",
              "Central America and the Caribbean          24.984983\n",
              "Middle East and North Africa               25.076732\n",
              "Europe                                     25.106199\n",
              "Asia                                       25.282504\n",
              "North America                              25.343441"
            ]
          },
          "metadata": {
            "tags": []
          },
          "execution_count": 88
        }
      ]
    },
    {
      "cell_type": "markdown",
      "metadata": {
        "id": "0elFmLJkuwNu"
      },
      "source": [
        "Then, I was interested to see if my previous analysis was true when looking at a more granular scale. I grouped the dataframe by region and item type."
      ]
    },
    {
      "cell_type": "code",
      "metadata": {
        "id": "o_TFYSZZMWDF"
      },
      "source": [
        "region_type_turnaround = days_region_type.groupby(['Region', 'Item Type']).mean().sort_values('Turnaround (Days)', ascending = True)"
      ],
      "execution_count": 85,
      "outputs": []
    },
    {
      "cell_type": "code",
      "metadata": {
        "colab": {
          "base_uri": "https://localhost:8080/",
          "height": 373
        },
        "id": "JdoRnzbN3jI2",
        "outputId": "6bb59654-cd44-4a66-9322-12815f49ce40"
      },
      "source": [
        "region_type_turnaround.head(10)"
      ],
      "execution_count": 86,
      "outputs": [
        {
          "output_type": "execute_result",
          "data": {
            "text/html": [
              "<div>\n",
              "<style scoped>\n",
              "    .dataframe tbody tr th:only-of-type {\n",
              "        vertical-align: middle;\n",
              "    }\n",
              "\n",
              "    .dataframe tbody tr th {\n",
              "        vertical-align: top;\n",
              "    }\n",
              "\n",
              "    .dataframe thead th {\n",
              "        text-align: right;\n",
              "    }\n",
              "</style>\n",
              "<table border=\"1\" class=\"dataframe\">\n",
              "  <thead>\n",
              "    <tr style=\"text-align: right;\">\n",
              "      <th></th>\n",
              "      <th></th>\n",
              "      <th>Turnaround (Days)</th>\n",
              "    </tr>\n",
              "    <tr>\n",
              "      <th>Region</th>\n",
              "      <th>Item Type</th>\n",
              "      <th></th>\n",
              "    </tr>\n",
              "  </thead>\n",
              "  <tbody>\n",
              "    <tr>\n",
              "      <th>Australia and Oceania</th>\n",
              "      <th>Fruits</th>\n",
              "      <td>22.933180</td>\n",
              "    </tr>\n",
              "    <tr>\n",
              "      <th>North America</th>\n",
              "      <th>Cereal</th>\n",
              "      <td>22.946903</td>\n",
              "    </tr>\n",
              "    <tr>\n",
              "      <th>Central America and the Caribbean</th>\n",
              "      <th>Cosmetics</th>\n",
              "      <td>23.968284</td>\n",
              "    </tr>\n",
              "    <tr>\n",
              "      <th>Australia and Oceania</th>\n",
              "      <th>Cosmetics</th>\n",
              "      <td>24.000000</td>\n",
              "    </tr>\n",
              "    <tr>\n",
              "      <th>Middle East and North Africa</th>\n",
              "      <th>Office Supplies</th>\n",
              "      <td>24.091822</td>\n",
              "    </tr>\n",
              "    <tr>\n",
              "      <th>Central America and the Caribbean</th>\n",
              "      <th>Meat</th>\n",
              "      <td>24.145907</td>\n",
              "    </tr>\n",
              "    <tr>\n",
              "      <th rowspan=\"2\" valign=\"top\">Sub-Saharan Africa</th>\n",
              "      <th>Meat</th>\n",
              "      <td>24.280367</td>\n",
              "    </tr>\n",
              "    <tr>\n",
              "      <th>Snacks</th>\n",
              "      <td>24.313658</td>\n",
              "    </tr>\n",
              "    <tr>\n",
              "      <th>Middle East and North Africa</th>\n",
              "      <th>Beverages</th>\n",
              "      <td>24.358118</td>\n",
              "    </tr>\n",
              "    <tr>\n",
              "      <th>Central America and the Caribbean</th>\n",
              "      <th>Baby Food</th>\n",
              "      <td>24.408696</td>\n",
              "    </tr>\n",
              "  </tbody>\n",
              "</table>\n",
              "</div>"
            ],
            "text/plain": [
              "                                                   Turnaround (Days)\n",
              "Region                            Item Type                         \n",
              "Australia and Oceania             Fruits                   22.933180\n",
              "North America                     Cereal                   22.946903\n",
              "Central America and the Caribbean Cosmetics                23.968284\n",
              "Australia and Oceania             Cosmetics                24.000000\n",
              "Middle East and North Africa      Office Supplies          24.091822\n",
              "Central America and the Caribbean Meat                     24.145907\n",
              "Sub-Saharan Africa                Meat                     24.280367\n",
              "                                  Snacks                   24.313658\n",
              "Middle East and North Africa      Beverages                24.358118\n",
              "Central America and the Caribbean Baby Food                24.408696"
            ]
          },
          "metadata": {
            "tags": []
          },
          "execution_count": 86
        }
      ]
    },
    {
      "cell_type": "markdown",
      "metadata": {
        "id": "f-JJYAjNwf0t"
      },
      "source": [
        "What is interesting is that some regions have quicker turnaround times in item types than previously thought. For example, fruits was the one of the slowest items in terms of turnaround time, but here in the table above, fruits in Australia and Oceania have the quickest turnaround time, 22.933 days. \n",
        "\n",
        "\n",
        "Though, overall, my initial findings remained true. Both tables produce similar results. Cosmetics and meat are still two of the three most common  item types with the quickest average turnaround. Furthermore, in terms of the regions, Central America & the Caribbean and Sub-Saharan Africa still have the quickest turnaround time."
      ]
    },
    {
      "cell_type": "code",
      "metadata": {
        "id": "r8RNsGBd-1lT"
      },
      "source": [
        ""
      ],
      "execution_count": null,
      "outputs": []
    }
  ]
}